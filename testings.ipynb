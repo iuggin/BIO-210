{
 "cells": [
  {
   "cell_type": "code",
   "execution_count": 1,
   "id": "3c1c45f8",
   "metadata": {},
   "outputs": [],
   "source": [
    "import numpy as np\n",
    "import functions as f"
   ]
  },
  {
   "cell_type": "markdown",
   "id": "66fc9c47",
   "metadata": {},
   "source": [
    "#### Create 50 random patterns of (network) size 2500. Perturb one of the memorized patterns by swapping the values of 1000 of its elements (from -1 to 1 or vice versa). You should execute these operations using the functions defined in previous weeks."
   ]
  },
  {
   "cell_type": "code",
   "execution_count": 2,
   "id": "22a222bd",
   "metadata": {},
   "outputs": [],
   "source": [
    "patterns = f.generate_patterns(50, 2500)\n",
    "\n",
    "perturbed_pattern = f.perturb_pattern(patterns[0,],1000)"
   ]
  },
  {
   "cell_type": "markdown",
   "id": "5ee903cf",
   "metadata": {},
   "source": [
    "#### Store the random patterns in a Hopfield network and make the dynamical system evolve for a maximum of 20 iterations or until convergence, first with the Hebbian weights and then with the Storkey weights, with a synchronous update rule. Use the perturbed pattern as the initial state. Store the state of the network at each time step."
   ]
  },
  {
   "cell_type": "code",
   "execution_count": 3,
   "id": "8562ca53",
   "metadata": {},
   "outputs": [],
   "source": [
    "hebbian_weights = f.hebbian_weights(patterns)\n",
    "hebbian_dyn = f.dynamics(perturbed_pattern, hebbian_weights, 20)\n",
    "\n",
    "storkey_weights = f.storkey_weights_vectorized(patterns)\n",
    "storkey_dyn = f.dynamics(perturbed_pattern, storkey_weights, 20)"
   ]
  },
  {
   "cell_type": "markdown",
   "id": "cd01f346",
   "metadata": {},
   "source": [
    "#### Run the dynamical system for a maximum of 30000 iterations or until convergence (we consider that convergence is reached when the state does not change for 10000 consecutive iterations), first with the Hebbian weights and then with the Storkey weights, this time with the asynchronous update rule. Store the state of the network at each time step."
   ]
  },
  {
   "cell_type": "code",
   "execution_count": 4,
   "id": "af0a6e9a",
   "metadata": {},
   "outputs": [],
   "source": [
    "hebbian_dyn_async = f.dynamics_async(perturbed_pattern, hebbian_weights, 30000,10000)\n",
    "\n",
    "storkey_dyn_async = f.dynamics_async(perturbed_pattern, storkey_weights, 30000,10000)"
   ]
  },
  {
   "cell_type": "markdown",
   "id": "7d6a0efd",
   "metadata": {},
   "source": [
    "#### Evaluate the energy function in each of the states. Verify that the function is always nonincreasing, both for the Hebbian weights and for the Storkey weights, and for both update rules, by generating a time-energy plot. Hint: computing the energy function for all states might take some time. If it takes too long, you can compute it only every 100 or even 1000 states and then plot it."
   ]
  },
  {
   "cell_type": "code",
   "execution_count": 8,
   "id": "d74c111c",
   "metadata": {},
   "outputs": [],
   "source": [
    "hebbian_dyn = np.array(hebbian_dyn)\n",
    "storkey_dyn = np.array(storkey_dyn)\n",
    "hebbian_dyn_async = np.array(hebbian_dyn_async)\n",
    "storkey_dyn_async = np.array(storkey_dyn_async)\n",
    "\n",
    "E_hd = np.zeros(hebbian_dyn.shape[0])\n",
    "for i in range(hebbian_dyn.shape[0]):\n",
    "    E_hd[i] = f.energy(hebbian_dyn[i,],hebbian_weights)\n",
    "\n",
    "E_sd = np.zeros(storkey_dyn.shape[0])\n",
    "for i in range(storkey_dyn.shape[0]):\n",
    "    E_sd[i] = f.energy(storkey_dyn[i,],storkey_weights)\n",
    "\n",
    "E_hda = np.zeros(hebbian_dyn_async.shape[0])\n",
    "for i in range(0,hebbian_dyn_async.shape[0],1000):\n",
    "    E_hda[i] = f.energy(hebbian_dyn_async[i,],hebbian_weights)\n",
    "\n",
    "E_sda = np.zeros(storkey_dyn_async.shape[0])\n",
    "for i in range(0, storkey_dyn_async.shape[0],1000):\n",
    "    E_sda[i] = f.energy(storkey_dyn_async[i,],storkey_weights)\n",
    "    "
   ]
  }
 ],
 "metadata": {
  "kernelspec": {
   "display_name": "Python 3",
   "language": "python",
   "name": "python3"
  },
  "language_info": {
   "codemirror_mode": {
    "name": "ipython",
    "version": 3
   },
   "file_extension": ".py",
   "mimetype": "text/x-python",
   "name": "python",
   "nbconvert_exporter": "python",
   "pygments_lexer": "ipython3",
   "version": "3.11.9"
  }
 },
 "nbformat": 4,
 "nbformat_minor": 5
}
